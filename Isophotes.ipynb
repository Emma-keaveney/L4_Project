{
 "cells": [
  {
   "cell_type": "markdown",
   "id": "9694fce2-106b-4be9-88ba-15394eb56399",
   "metadata": {},
   "source": [
    "Examples of how to use the Isophotes.py file from the Auriga_Analysis package to find isophotes in surface brightness maps and fit to ellipses to find isophote centres"
   ]
  },
  {
   "cell_type": "code",
   "execution_count": null,
   "id": "3a23704e-67d7-4203-8083-5804cc5cb77b",
   "metadata": {},
   "outputs": [],
   "source": [
    "import numpy as np\n",
    "import matplotlib.pyplot as plt\n",
    "import Auriga_Analysis as A\n",
    "\n",
    "plt.rcParams['text.usetex'] = True"
   ]
  },
  {
   "cell_type": "code",
   "execution_count": null,
   "id": "fd81082a-5a7d-49c4-b2cc-ad0ac933f8b4",
   "metadata": {},
   "outputs": [],
   "source": [
    "x = 3  #index of magnitude. 3 = k-band\n",
    "f = 10**6  #make pc\n",
    "shrinking_circles_centres = []\n",
    "\n",
    "snap = 1516\n",
    "snapobj = A.SnapshotData.load_snapshot(snap, 4, [\"Coordinates\",\"GFM_StellarPhotometrics\", \"Velocities\", \"Masses\"])\n",
    "coords,magnitudes,velocities, masses = snapobj.get_results()\n",
    "\n",
    "radius = A.GroupData.group_data(snap, 0, \"Group/Group_R_Crit200\").return_detail()\n",
    "centre = A.GroupData.group_data(snap, 0, \"Subhalo/SubhaloPos\").return_detail()\n",
    "\n",
    "new_coords, new_vels, coords, vels, masses, magnitude = A.util.align(centre, coords, velocities, masses, radius, 0.5, idx = None, other = [magnitudes], to_print = False)\n",
    "coord2d = new_coords[:,1:3]   #just look at y-z plane\n",
    "\n",
    "#apply shrinking circles algorithm, weighting by magnitude?\n",
    "pos, mass, no_iterations, rad, ss_centre = A.ShrinkingSpheres.shrinking_circles(coord2d, masses,0.35*radius, 0.75,5000, [0,0])\n",
    "\n",
    "shrinking_circles_centres.append(ss_centre)"
   ]
  },
  {
   "cell_type": "code",
   "execution_count": null,
   "id": "b864f159-205b-439f-8df0-a9bbbe4dc77e",
   "metadata": {},
   "outputs": [],
   "source": [
    "def stellar_hist(snap, bin_no, histogram_width, sigma, axes):\n",
    "\n",
    "    b = histogram_width\n",
    "    pix_size = ((histogram_width)*(10**6)/bin_no)**2\n",
    "    time = A.util.time(snap)\n",
    "\n",
    "    results = A.SnapshotData.load_snapshot(snap, 4, [\"Coordinates\",\"GFM_StellarPhotometrics\", \"Velocities\", \"Masses\"])\n",
    "    coordinates, magnitudes, velocities, masses = results.get_results()\n",
    "    radius = A.GroupData.group_data(snap, 0, \"Group/Group_R_Crit200\").return_detail()\n",
    "    centre = A.GroupData.group_data(snap, 0, \"Subhalo/SubhaloPos\").return_detail()\n",
    "    \n",
    "    new_coords, new_vels, coords, vels, masses, magnitude = A.util.align(centre, coordinates, velocities, masses, radius, 0.1, idx = None, other = [magnitudes], to_print = False)\n",
    "\n",
    "    n, xedges, yedges = np.histogram2d(new_coords[:,axes[0]], new_coords[:,axes[1]], bins=(500,500), range = [[-b,b], [-b, b]])\n",
    "    xbin = 0.5 * (xedges[:-1] + xedges[1:])\n",
    "    ybin = 0.5 * (yedges[:-1] + yedges[1:])\n",
    "    xc, yc = np.meshgrid(xbin, ybin)\n",
    "    fig, ax1 = plt.subplots(figsize=(5, 5))\n",
    "    ax1.set_aspect(1)\n",
    "    ax1.contourf( xc*1000, yc*1000, np.log10(n.T), cmap='magma')\n",
    "\n",
    "    plt.title('Time = {} Gyr'.format(np.round(time,2)))\n",
    "    plt.xlabel('x / kpc')\n",
    "    plt.ylabel('y / kpc')\n"
   ]
  },
  {
   "cell_type": "code",
   "execution_count": null,
   "id": "fd74b235-ef48-45da-a281-be1dbb0b8280",
   "metadata": {},
   "outputs": [],
   "source": [
    "matrices = np.load('Data/Variable_rotation_matrices.npy')\n",
    "rotmat_snaps = list(np.load('Data/Rotmat_snapshots.npy'))"
   ]
  },
  {
   "cell_type": "code",
   "execution_count": null,
   "id": "23c252b0-0e43-4103-a7f1-010340289835",
   "metadata": {},
   "outputs": [],
   "source": [
    "def snapshot_data(snap):\n",
    "\n",
    "    time = A.util.time(snap)\n",
    "\n",
    "    results = A.SnapshotData.load_snapshot(snap, 4, [\"Coordinates\",\"GFM_StellarPhotometrics\", \"Velocities\", \"Masses\"])\n",
    "    coordinates, magnitudes, velocities, masses = results.get_results()\n",
    "    radius = A.GroupData.group_data(snap, 0, \"Group/Group_R_Crit200\").return_detail()\n",
    "    centre = A.GroupData.group_data(snap, 0, \"Subhalo/SubhaloPos\").return_detail()\n",
    "\n",
    "    new_coords, new_vels, coords, vels, masses, magnitude = A.util.align(centre, coordinates, velocities, masses, radius, 0.5, idx = None, other = [magnitudes], to_print = False)\n",
    "\n",
    "    return new_coords, new_vels, magnitude[0], masses, time"
   ]
  },
  {
   "cell_type": "code",
   "execution_count": null,
   "id": "2e72da8e-54c5-4d97-a9b6-7877a8317fd3",
   "metadata": {},
   "outputs": [],
   "source": [
    "def snapshot_data_aligned(snap):\n",
    "    time = A.util.time(snap)\n",
    "\n",
    "    results = A.SnapshotData.load_snapshot(snap, 4, [\"Coordinates\",\"GFM_StellarPhotometrics\", \"Velocities\", \"Masses\"])\n",
    "    coordinates, magnitudes, velocities, masses = results.get_results()\n",
    "    radius = A.GroupData.group_data(snap, 0, \"Group/Group_R_Crit200\").return_detail()\n",
    "    centre = A.GroupData.group_data(snap, 0, \"Subhalo/SubhaloPos\").return_detail()\n",
    "\n",
    "    if snap in rotmat_snaps:\n",
    "        centred = A.util.CentreOnHalo(coordinates, centre)\n",
    "        velocities, bulk_velocity = A.util.remove_bulk_velocity(centred, velocities, masses, idx = None, radialcut = 0.1*radius)\n",
    "        rotmat = matrices[rotmat_snaps.index(snap)]\n",
    "        new_coords = np.dot(centred, rotmat)\n",
    "        new_vels = np.dot(velocities, rotmat)\n",
    "    \n",
    "    else:\n",
    "        new_coords, new_vels, coords, vels, masses, magnitudes = A.util.align(centre, coordinates, velocities, masses, radius, 0.1, idx = None, other = [magnitudes], to_print = False)\n",
    "        magnitudes = magnitudes[0]\n",
    "        \n",
    "    return new_coords, new_vels, magnitudes, masses, time"
   ]
  },
  {
   "cell_type": "code",
   "execution_count": null,
   "id": "641018cd-15c4-4868-9bfc-6aa5cb81af0a",
   "metadata": {},
   "outputs": [],
   "source": [
    "snap = 2999\n",
    "\n",
    "coords, vels, magnitudes, masses, time = snapshot_data(snap)\n",
    "n,xc, yc = A.Isophotes.make_SB_map(coords, 0.035, 128, magnitudes, 3, 1.5, 10**3, time, show_plot = True)"
   ]
  },
  {
   "cell_type": "code",
   "execution_count": null,
   "id": "57496215-99e8-41cd-b147-b79ddbf73a7c",
   "metadata": {},
   "outputs": [],
   "source": [
    "f = 10**3\n",
    "b =25\n",
    "iso_magnitudes = [15, 16, 17, 18, 19, 20, 21]\n",
    "centre_mags = [[],[],[],[],[],[]]\n",
    "\n",
    "snap = 2000\n",
    "\n",
    "coords, vels, magnitudes, masses, time = snapshot_data_aligned(snap)\n",
    "n,xc, yc = A.Isophotes.make_SB_map(coords, 0.035, 128, magnitudes, 3, 1.5, 10**3, time, show_plot = True)\n",
    "   \n",
    "for i in range(len(iso_magnitudes)):\n",
    "    magnitude = iso_magnitudes[i]\n",
    "    coords = A.Isophotes.isophotes(n, xc, yc, 0.01*magnitude, magnitude)\n",
    "    plt.scatter(coords[:,0]*f, coords[:,1]*f, label = 'magnitude ={}'.format(magnitude), s = 1, color = 'black')\n",
    "    x,y,centre = A.Isophotes.tilted_ellipse_LS(coords, 1000)\n",
    "    centre_mags[i].append(centre)"
   ]
  },
  {
   "cell_type": "code",
   "execution_count": null,
   "id": "e61419e8-259a-4caf-9e63-362b1daefa54",
   "metadata": {},
   "outputs": [],
   "source": [
    "f = 10**3\n",
    "b =20\n",
    "\n",
    "isophote_magnitudes = [17, 18, 19, 20, 21]\n",
    "centre_mags = [[] for _ in isophote_magnitudes]\n",
    "distances = [[] for _ in isophote_magnitudes]\n",
    "times = []\n",
    "\n",
    "for j in range(1200,1400,2):\n",
    "    snap = j\n",
    "    if snap%100 ==0:\n",
    "        print(snap)\n",
    "    coords, vels, magnitudes, masses, time = snapshot_data_aligned(snap)\n",
    "    times.append(time)\n",
    "    n,xc, yc = A.Isophotes.make_SB_map(coords, 0.024, 128, magnitudes, 3, 1.5, 10**3, time, show_plot = False)\n",
    "    \n",
    "    for i in range(len(isophote_magnitudes)):\n",
    "        magnitude = isophote_magnitudes[i]\n",
    "        coords = A.Isophotes.isophotes(n, xc, yc, 0.01*magnitude, magnitude)\n",
    "\n",
    "        if len(coords) > 0:\n",
    "            x,y,centre = A.Isophotes.tilted_ellipse_LS(coords, 1000)\n",
    "            distances[i].append(np.sqrt(centre[0]**2+centre[1]**2)/0.6777)\n",
    "\n",
    "        centre_mags[i].append(centre)\n",
    "        plt.scatter(coords[:,0]*f, coords[:,1]*f, label = 'magnitude ={}'.format(magnitude), s = 1, color = 'black')\n",
    "        plt.scatter(x*f,y*f, color = 'red', s = 0.5)\n",
    "\n",
    "plt.title('Time = {} Gyr'.format(np.round(time, 2)),fontsize = 14)\n",
    "plt.xlabel('x / kpc')\n",
    "plt.ylabel('y / kpc')\n",
    "plt.xlim(-b,b)\n",
    "plt.ylim(-b,b)\n",
    "\n",
    "plt.close()\n",
    "centres = [np.array(centre) for centre in centre_mags]"
   ]
  }
 ],
 "metadata": {
  "kernelspec": {
   "display_name": "venv2",
   "language": "python",
   "name": "venv2"
  },
  "language_info": {
   "codemirror_mode": {
    "name": "ipython",
    "version": 3
   },
   "file_extension": ".py",
   "mimetype": "text/x-python",
   "name": "python",
   "nbconvert_exporter": "python",
   "pygments_lexer": "ipython3",
   "version": "3.12.4"
  }
 },
 "nbformat": 4,
 "nbformat_minor": 5
}
