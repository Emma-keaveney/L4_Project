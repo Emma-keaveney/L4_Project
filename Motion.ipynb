{
 "cells": [
  {
   "cell_type": "markdown",
   "id": "e4a50811-d16b-42b5-9050-6d47cad36d5a",
   "metadata": {},
   "source": [
    "Examples of how to find the motion of galaxy centres from raw data using the Motion.py file from the Auriga_Analysis package"
   ]
  },
  {
   "cell_type": "code",
   "execution_count": null,
   "id": "6db67e98-f5b1-4d00-beb9-eacf39828312",
   "metadata": {},
   "outputs": [],
   "source": [
    "import numpy as np\n",
    "import matplotlib.pyplot as plt\n",
    "import Auriga_Analysis as A\n",
    "plt.rcParams['text.usetex'] = True"
   ]
  },
  {
   "cell_type": "code",
   "execution_count": null,
   "id": "4c95f686-710d-4174-a69d-96adc33a19ab",
   "metadata": {},
   "outputs": [],
   "source": [
    "shrinking_spheres = np.load('Data/SS_all.npy')\n",
    "subfind = np.load('Data/SubfindMT.npy')\n",
    "times = np.load('Data/Times.npy')\n",
    "a = np.load('Data/Scale_factors.npy')\n",
    "GES = np.load('Data/GES_positions.npy')"
   ]
  },
  {
   "cell_type": "code",
   "execution_count": null,
   "id": "706d13a5-822b-43a0-b431-80e68d4fd560",
   "metadata": {},
   "outputs": [],
   "source": [
    "diff = subfind[730:1130]-GES\n",
    "ave = np.array([np.linalg.norm(d)*10**3 for d in diff])*GES_a"
   ]
  },
  {
   "cell_type": "code",
   "execution_count": null,
   "id": "9c729c7d-0776-4a81-8a55-b4e1d3775caa",
   "metadata": {},
   "outputs": [],
   "source": [
    "unsmoothed_subfind_velocity = A.Motion.use_splines(times, subfind,a, 'peculiar_velocity')\n",
    "ma_subfind_velocity = A.Motion.moving_average(20,times,subfind, a, 'peculiar_velocity')\n",
    "ma_time = A.Motion.moving_average(20,times,subfind, a, 'times')\n",
    "bspline_subfind_velocity = A.Motion.b_splines(4, 20, subfind, times,a, 'peculiar_velocity')\n",
    "\n",
    "unsmoothed_subfind_accel = A.Motion.use_splines(times, subfind,a, 'peculiar_acceleration')\n",
    "ma_subfind_accel = A.Motion.moving_average(20,times,subfind, a, 'peculiar_acceleration')\n",
    "bspline_subfind_accel = A.Motion.b_splines(4, 20, subfind, times,a, 'peculiar_acceleration')\n",
    "\n",
    "unsmoothed_spheres_velocity = A.Motion.use_splines(times, shrinking_spheres,a, 'peculiar_velocity')\n",
    "unsmoothed_GES_velocity = A.Motion.use_splines(GES_times, GES,GES_a, 'peculiar_velocity')\n",
    "GES_spline_velocity = A.Motion.b_splines(4, 20, GES, GES_times,GES_a, 'peculiar_velocity')\n",
    "\n",
    "bspline_spheres_accel = A.Motion.b_splines(4, 20, shrinking_spheres, times,a, 'peculiar_acceleration')\n"
   ]
  },
  {
   "cell_type": "code",
   "execution_count": null,
   "id": "79f608af-82f4-4335-b000-ecb5b0f73bf9",
   "metadata": {},
   "outputs": [],
   "source": [
    "x = 2\n",
    "\n",
    "fig, ax2 = plt.subplots(1, 1, sharex=True, figsize=(8,3))\n",
    "\n",
    "# fig.dpi = 300\n",
    "\n",
    "ax2.plot(times, unsmoothed_subfind_velocity[x], label = r'$\\mathrm{SUBFIND}$', color = 'tab:green')\n",
    "ax2.plot(times, unsmoothed_spheres_velocity[x], label = r'$\\mathrm{Shrinking\\, spheres}$')\n",
    "\n",
    "ax2.set_xlabel(r'$\\mathrm{Time\\, / \\,Gyr}$', fontsize = 15)\n",
    "ax2.set_ylabel(r'$\\mathrm{Velocity\\, /\\, km \\, s^{-1}}$', fontsize = 15)\n",
    "ax2.set_xlim(2,14)\n",
    "ax2.set_xlim(6,6.5)\n",
    "\n",
    "ax2.legend(fontsize = 11, frameon = False)\n",
    "\n",
    "# ax2.set_ylim(-30,70)\n",
    "ax2.set_ylim(-110,-50)\n",
    "\n",
    "# ax2.set_ylim(-5,5)\n",
    "ax2.tick_params(axis = 'both', top = True, right = True,direction = 'in',labelsize = 12)\n",
    "\n",
    "plt.show()"
   ]
  },
  {
   "cell_type": "code",
   "execution_count": null,
   "id": "8f679fba-d794-4211-bc4c-c19262db14ed",
   "metadata": {},
   "outputs": [],
   "source": [
    "subf = []\n",
    "spheres = []\n",
    "for i in range(len(unsmoothed_subfind_velocity[0])):\n",
    "    subf.append(np.sqrt(unsmoothed_subfind_velocity[0][i]**2+unsmoothed_subfind_velocity[1][i]**2+unsmoothed_subfind_velocity[2][i]**2))\n",
    "    spheres.append(np.sqrt(unsmoothed_spheres_velocity[0][i]**2+unsmoothed_spheres_velocity[1][i]**2+unsmoothed_spheres_velocity[2][i]**2))\n",
    "\n",
    "print(np.std(subf)/np.std(spheres))\n",
    "print(np.std(unsmoothed_subfind_velocity[0])/np.std(unsmoothed_spheres_velocity[0]))\n",
    "print(np.std(unsmoothed_subfind_velocity[1])/np.std(unsmoothed_spheres_velocity[1]))\n",
    "print(np.std(unsmoothed_subfind_velocity[2])/np.std(unsmoothed_spheres_velocity[2]))"
   ]
  },
  {
   "cell_type": "code",
   "execution_count": null,
   "id": "b1340d78-03fa-49cc-b0cf-9595fdda14a1",
   "metadata": {},
   "outputs": [],
   "source": [
    "x = 0\n",
    "\n",
    "fig, (ax1, ax2) = plt.subplots(2, 1, sharex=True, figsize=(10, 5), constrained_layout = True)\n",
    "\n",
    "fig.dpi = 300\n",
    "\n",
    "ax1.plot(times, unsmoothed_subfind_velocity[x], label = r'$\\mathrm{No \\,smoothing}$', color = 'tab:green', alpha = 0.5)\n",
    "ax1.plot(ma_time, ma_subfind_velocity[x], label = r'$\\mathrm{Moving \\,average}$', color = 'tab:blue')\n",
    "ax1.plot(times, bspline_subfind_velocity[x], label = r'$\\mathrm{B-splines}$', color = 'tab:orange', linewidth = 1.2)\n",
    "\n",
    "ax1.set_ylabel(r'$\\mathrm{Velocity\\, /\\, km \\, s^{-1}}$', fontsize = 15)\n",
    "ax1.set_xlim(2,14)\n",
    "ax1.set_ylim(-45,85)\n",
    "ax1.tick_params(axis = 'both', top = True, right = True,direction = 'in',labelsize = 12)\n",
    "\n",
    "ax1.legend(fontsize = 11, frameon = False)\n",
    "          # loc = (0.7,0.65))\n",
    "\n",
    "ax2.plot(times, unsmoothed_subfind_accel[x], label = r'$\\mathrm{No \\,smoothing}$', color = 'tab:green')\n",
    "ax2.plot(ma_time, ma_subfind_accel[x], label = r'$\\mathrm{Moving \\,average}$', color = 'tab:blue')\n",
    "ax2.plot(times, bspline_subfind_accel[x], label = r'$\\mathrm{B-splines}$', color = 'tab:orange', linewidth = 1.2)\n",
    "\n",
    "\n",
    "ax2.set_xlabel(r'$\\mathrm{Time\\, / \\,Gyr}$', fontsize = 15)\n",
    "ax2.set_ylabel(r'$\\mathrm{Acceleration\\, /\\, cm \\, s^{-1}\\, yr^{-1}}$', fontsize = 15)\n",
    "ax2.set_xlim(2,14)\n",
    "ax2.set_ylim(-0.4,0.4)\n",
    "ax2.tick_params(axis = 'both', top = True, right = True,direction = 'in',labelsize = 12)\n",
    "ax2.yaxis.set_ticks(np.arange(-0.4, 0.4, 0.2))\n",
    "\n",
    "ax2.legend(fontsize = 11, frameon = False)\n",
    "          loc = (0.7,0.65))\n",
    "\n",
    "plt.tight_layout()\n",
    "plt.subplots_adjust(hspace=0.0)\n",
    "plt.show()"
   ]
  }
 ],
 "metadata": {
  "kernelspec": {
   "display_name": "venv2",
   "language": "python",
   "name": "venv2"
  },
  "language_info": {
   "codemirror_mode": {
    "name": "ipython",
    "version": 3
   },
   "file_extension": ".py",
   "mimetype": "text/x-python",
   "name": "python",
   "nbconvert_exporter": "python",
   "pygments_lexer": "ipython3",
   "version": "3.12.4"
  }
 },
 "nbformat": 4,
 "nbformat_minor": 5
}
